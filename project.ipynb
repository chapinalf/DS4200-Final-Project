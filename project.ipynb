{
 "cells": [
  {
   "cell_type": "code",
   "execution_count": null,
   "metadata": {},
   "outputs": [],
   "source": [
    "# Install the module\n",
    "import pandas as pd\n",
    "import altair as alt"
   ]
  },
  {
   "cell_type": "code",
   "execution_count": null,
   "metadata": {},
   "outputs": [],
   "source": [
    "df = pd.read_csv(\"hotel_bookings.csv\")\n",
    "print(df.head())"
   ]
  },
  {
   "cell_type": "code",
   "execution_count": null,
   "metadata": {},
   "outputs": [],
   "source": [
    "df.describe()\n"
   ]
  },
  {
   "cell_type": "code",
   "execution_count": null,
   "metadata": {},
   "outputs": [],
   "source": [
    "df.isnull().any()"
   ]
  },
  {
   "cell_type": "code",
   "execution_count": null,
   "metadata": {},
   "outputs": [],
   "source": [
    "# Fill the missing values with 0 since this means that the booker was not apart of a company or they did not use an agent\n",
    "df['company'].fillna(0, inplace=True)\n",
    "df['agent'].fillna(0, inplace=True)"
   ]
  },
  {
   "cell_type": "code",
   "execution_count": null,
   "metadata": {},
   "outputs": [],
   "source": [
    "df.shape"
   ]
  },
  {
   "cell_type": "code",
   "execution_count": null,
   "metadata": {},
   "outputs": [],
   "source": [
    "df.dropna(subset=['children'], inplace=True)\n",
    "df.dropna(subset=['country'], inplace=True)"
   ]
  },
  {
   "cell_type": "code",
   "execution_count": null,
   "metadata": {},
   "outputs": [],
   "source": [
    "df.describe()"
   ]
  },
  {
   "cell_type": "markdown",
   "metadata": {},
   "source": [
    "At least one data visualization for the overall data with clear title, labels, legend(if need) and a paragraph to introduce the data, including the size, source and attributes."
   ]
  },
  {
   "cell_type": "code",
   "execution_count": null,
   "metadata": {},
   "outputs": [],
   "source": [
    "df['reserved_room_type'].value_counts()"
   ]
  },
  {
   "cell_type": "markdown",
   "metadata": {},
   "source": [
    "What info can we learn about customers based on the countries they come from? - JAMES/MEGAN\n",
    "Visualization: interactive map highlighting color scale to indicate concentration of customer origin country with tooltip containing the market segment, which hotel, and deposit type"
   ]
  },
  {
   "cell_type": "code",
   "execution_count": null,
   "metadata": {},
   "outputs": [],
   "source": []
  },
  {
   "cell_type": "markdown",
   "metadata": {},
   "source": [
    "Booking how far in advance will result in the cheapest rate? - CHAPIN\n",
    "Visualization: interactive scatter plot of lead time compared to average daily rate with shape to indicate cancelation and size to indicate total guests and a slider to limit the booking date time frame under analysis"
   ]
  },
  {
   "cell_type": "code",
   "execution_count": null,
   "metadata": {},
   "outputs": [],
   "source": [
    "alt.data_transformers.disable_max_rows()\n",
    "\n",
    "options = [None, 2015, 2016, 2017]\n",
    "labels = ['All', '2015', '2016', '2017']\n",
    "\n",
    "input_dropdown = alt.binding_select(\n",
    "    options = options, \n",
    "    labels = labels,\n",
    "    name = 'Arrival Year: '\n",
    ")\n",
    "\n",
    "selection = alt.selection_point(fields=['arrival_date_year'], bind=input_dropdown)\n",
    "\n",
    "options1 = [None, 'A', 'B', 'C', 'D', 'E', 'F', 'G', 'H']\n",
    "labels1 = ['All', 'A', 'B', 'C', 'D', 'E', 'F', 'G', 'H']\n",
    "\n",
    "input_dropdown1 = alt.binding_select(\n",
    "    options = options1, \n",
    "    labels = labels1,\n",
    "    name = 'Room Type: '\n",
    ")\n",
    "\n",
    "selection1 = alt.selection_point(fields=['reserved_room_type'], bind=input_dropdown1)\n",
    "\n",
    "options2 = [None, 'City Hotel', 'Resort Hotel']\n",
    "labels2 = ['All', 'City Hotel', 'Resort Hotel']\n",
    "\n",
    "input_dropdown2 = alt.binding_select(\n",
    "    options = options2, \n",
    "    labels = labels2,\n",
    "    name = 'Hotel Type: '\n",
    ")\n",
    "\n",
    "selection2 = alt.selection_point(fields=['hotel'], bind=input_dropdown2)\n",
    "\n",
    "chart = alt.Chart(df).mark_circle().encode(\n",
    "    x=alt.X('adr:Q', axis=alt.Axis(title='Average Daily Rate (Dollars)')),\n",
    "    y=alt.Y('lead_time:Q', axis=alt.Axis(title='Lead Time (Days Until Arrival When Booked)')),\n",
    "    color=alt.Color('hotel:N', legend=alt.Legend(title='Hotel'))\n",
    ").add_params(\n",
    "    selection1,\n",
    "    selection2 \n",
    ").transform_filter(\n",
    "    selection2 & selection1\n",
    ").properties(\n",
    "    title='Average Daily Rate vs Lead Time for Hotel Bookings by Hotel and Room Type'\n",
    ")\n",
    "\n",
    "chart"
   ]
  },
  {
   "cell_type": "code",
   "execution_count": null,
   "metadata": {},
   "outputs": [],
   "source": [
    "chart.save('vis2.html')"
   ]
  },
  {
   "cell_type": "markdown",
   "metadata": {},
   "source": [
    "What time of year is it cheapest to book a stay? - MEGAN\n",
    "Visualization: static line graph showing the average cost per each week"
   ]
  },
  {
   "cell_type": "code",
   "execution_count": null,
   "metadata": {},
   "outputs": [],
   "source": [
    "\n"
   ]
  },
  {
   "cell_type": "markdown",
   "metadata": {},
   "source": [
    "How does having children impact the booking? - COOPER\n",
    "Visualization: static bar plot of # of kids (that a family has) on the x-axis and average price (across all families with that # of kids) on the y-axis"
   ]
  },
  {
   "cell_type": "code",
   "execution_count": null,
   "metadata": {},
   "outputs": [],
   "source": []
  },
  {
   "cell_type": "markdown",
   "metadata": {},
   "source": [
    "Are travel agents more likely to result in less cancellations? - COOPER\n",
    "Visualization: static bar plot of whether there was a travel agent (yes or no) on the x-axis and total # of cancellations on the y-axis"
   ]
  },
  {
   "cell_type": "code",
   "execution_count": null,
   "metadata": {},
   "outputs": [],
   "source": []
  }
 ],
 "metadata": {
  "kernelspec": {
   "display_name": "Python 3",
   "language": "python",
   "name": "python3"
  },
  "language_info": {
   "codemirror_mode": {
    "name": "ipython",
    "version": 3
   },
   "file_extension": ".py",
   "mimetype": "text/x-python",
   "name": "python",
   "nbconvert_exporter": "python",
   "pygments_lexer": "ipython3",
   "version": "3.11.9"
  }
 },
 "nbformat": 4,
 "nbformat_minor": 2
}
